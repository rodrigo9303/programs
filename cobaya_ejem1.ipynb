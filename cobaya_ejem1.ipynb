{
 "cells": [
  {
   "cell_type": "markdown",
   "metadata": {},
   "source": [
    "# El próposito de este notebook es replicar el ejemplo de cobaya que está en la web."
   ]
  },
  {
   "cell_type": "markdown",
   "metadata": {},
   "source": [
    "Es importante que si se desea seguir de manera exacta el ejemplo, se debe revisar la [página de cobaya](https://cobaya.readthedocs.io/en/latest/example.html). "
   ]
  },
  {
   "cell_type": "code",
   "execution_count": 5,
   "metadata": {},
   "outputs": [],
   "source": [
    "info = {\n",
    "    \"likelihood\": {\n",
    "        \"gaussian_mixture\": {\n",
    "            \"means\": [0.2, 0],\n",
    "            \"covs\": [[0.1, 0.05],\n",
    "                     [0.05, 0.2]],\n",
    "            \"derived\": True}},\n",
    "    \"params\": dict([\n",
    "        (\"a\", {\n",
    "            \"prior\": {\"min\": -0.5, \"max\": 3},\n",
    "            \"latex\": r\"\\alpha\"}),\n",
    "        (\"b\", {\n",
    "            \"prior\": {\"dist\": \"norm\", \"loc\": 0, \"scale\": 1},\n",
    "            \"ref\": 0,\n",
    "            \"proposal\": 0.5,\n",
    "            \"latex\": r\"\\beta\"}),\n",
    "        (\"derived_a\", {\n",
    "            \"latex\": r\"\\alpha^\\prime\"}),\n",
    "        (\"derived_b\", {\n",
    "            \"latex\": r\"\\beta^\\prime\"})]),\n",
    "    \"sampler\": {\n",
    "        \"mcmc\": None}}\n"
   ]
  },
  {
   "cell_type": "code",
   "execution_count": 6,
   "metadata": {},
   "outputs": [],
   "source": [
    "import sys\n",
    "for k, v in {\"-f\": \"force\", \"-r\": \"resume\", \"-d\": \"debug\"}.items():\n",
    "    if k in sys.argv:\n",
    "        info[v] = True"
   ]
  },
  {
   "cell_type": "code",
   "execution_count": 7,
   "metadata": {},
   "outputs": [],
   "source": [
    "from cobaya.yaml import yaml_load_file\n",
    "\n",
    "info_from_yaml = yaml_load_file(\"../gaussian.yaml\")"
   ]
  },
  {
   "cell_type": "code",
   "execution_count": 8,
   "metadata": {
    "scrolled": true
   },
   "outputs": [
    {
     "name": "stdout",
     "output_type": "stream",
     "text": [
      "[mcmc] Covariance matrix not present. We will start learning the covariance of the proposal earlier: R-1 = 30 (was 2).\n",
      "[prior] *WARNING* Reference pdf not defined or improper for some parameters. Using prior's sigma instead for them.\n",
      "[mcmc] Initial point:\n",
      "[prior] Reference values or pdf's for some parameters were not provided. Sampling from the prior instead for those parameters.\n",
      "[mcmc] \n",
      " weight  minuslogpost         a    b  derived_a  derived_b  minuslogprior  minuslogprior__0       chi2  \\\n",
      "    1.0     20.938953  2.021161  0.0   5.759016  -2.176703       2.171702          2.171702  37.534503   \n",
      "\n",
      " chi2__gaussian_mixture  \n",
      "              37.534503  \n",
      "[mcmc] Sampling! (NB: nothing will be printed until 40 burn-in samples have been obtained)\n",
      "[mcmc] Finished burn-in phase: discarded 40 accepted steps.\n",
      "[mcmc] Checkpoint: 80 samples accepted.\n",
      "[mcmc] Ready to check convergence and learn a new proposal covmat\n",
      "[mcmc] Convergence of means: R-1 = 0.460777 after 80 accepted steps\n",
      "[mcmc] Updated covariance matrix of proposal pdf.\n",
      "[mcmc] Checkpoint: 160 samples accepted.\n",
      "[mcmc] Ready to check convergence and learn a new proposal covmat\n",
      "[mcmc] Convergence of means: R-1 = 0.259643 after 160 accepted steps\n",
      "[mcmc] Updated covariance matrix of proposal pdf.\n",
      "[mcmc] Checkpoint: 240 samples accepted.\n",
      "[mcmc] Ready to check convergence and learn a new proposal covmat\n",
      "[mcmc] Convergence of means: R-1 = 0.033623 after 240 accepted steps\n",
      "[mcmc] Updated covariance matrix of proposal pdf.\n",
      "[mcmc] Checkpoint: 320 samples accepted.\n",
      "[mcmc] Ready to check convergence and learn a new proposal covmat\n",
      "[mcmc] Convergence of means: R-1 = 0.083215 after 320 accepted steps\n",
      "[mcmc] Updated covariance matrix of proposal pdf.\n",
      "[mcmc] Checkpoint: 400 samples accepted.\n",
      "[mcmc] Ready to check convergence and learn a new proposal covmat\n",
      "[mcmc] Convergence of means: R-1 = 0.093736 after 400 accepted steps\n",
      "[mcmc] Updated covariance matrix of proposal pdf.\n",
      "[mcmc] Checkpoint: 480 samples accepted.\n",
      "[mcmc] Ready to check convergence and learn a new proposal covmat\n",
      "[mcmc] Convergence of means: R-1 = 0.061331 after 480 accepted steps\n",
      "[mcmc] Updated covariance matrix of proposal pdf.\n",
      "[mcmc] Checkpoint: 560 samples accepted.\n",
      "[mcmc] Ready to check convergence and learn a new proposal covmat\n",
      "[mcmc] Convergence of means: R-1 = 0.101289 after 560 accepted steps\n",
      "[mcmc] Updated covariance matrix of proposal pdf.\n",
      "[mcmc] Checkpoint: 640 samples accepted.\n",
      "[mcmc] Ready to check convergence and learn a new proposal covmat\n",
      "[mcmc] Convergence of means: R-1 = 0.057916 after 640 accepted steps\n",
      "[mcmc] Updated covariance matrix of proposal pdf.\n",
      "[mcmc] Checkpoint: 720 samples accepted.\n",
      "[mcmc] Ready to check convergence and learn a new proposal covmat\n",
      "[mcmc] Convergence of means: R-1 = 0.044126 after 720 accepted steps\n",
      "[mcmc] Updated covariance matrix of proposal pdf.\n",
      "[mcmc] Checkpoint: 800 samples accepted.\n",
      "[mcmc] Ready to check convergence and learn a new proposal covmat\n",
      "[mcmc] Convergence of means: R-1 = 0.040168 after 800 accepted steps\n",
      "[mcmc] Updated covariance matrix of proposal pdf.\n",
      "[mcmc] Checkpoint: 880 samples accepted.\n",
      "[mcmc] Ready to check convergence and learn a new proposal covmat\n",
      "[mcmc] Convergence of means: R-1 = 0.020639 after 880 accepted steps\n",
      "[mcmc] Updated covariance matrix of proposal pdf.\n",
      "[mcmc] Checkpoint: 960 samples accepted.\n",
      "[mcmc] Ready to check convergence and learn a new proposal covmat\n",
      "[mcmc] Convergence of means: R-1 = 0.033224 after 960 accepted steps\n",
      "[mcmc] Updated covariance matrix of proposal pdf.\n",
      "[mcmc] Checkpoint: 1040 samples accepted.\n",
      "[mcmc] Ready to check convergence and learn a new proposal covmat\n",
      "[mcmc] Convergence of means: R-1 = 0.036158 after 1040 accepted steps\n",
      "[mcmc] Updated covariance matrix of proposal pdf.\n",
      "[mcmc] Checkpoint: 1120 samples accepted.\n",
      "[mcmc] Ready to check convergence and learn a new proposal covmat\n",
      "[mcmc] Convergence of means: R-1 = 0.051651 after 1120 accepted steps\n",
      "[mcmc] Updated covariance matrix of proposal pdf.\n",
      "[mcmc] Checkpoint: 1200 samples accepted.\n",
      "[mcmc] Ready to check convergence and learn a new proposal covmat\n",
      "[mcmc] Convergence of means: R-1 = 0.026016 after 1200 accepted steps\n",
      "[mcmc] Updated covariance matrix of proposal pdf.\n",
      "[mcmc] Checkpoint: 1280 samples accepted.\n",
      "[mcmc] Ready to check convergence and learn a new proposal covmat\n",
      "[mcmc] Convergence of means: R-1 = 0.021587 after 1280 accepted steps\n",
      "[mcmc] Updated covariance matrix of proposal pdf.\n",
      "[mcmc] Checkpoint: 1360 samples accepted.\n",
      "[mcmc] Ready to check convergence and learn a new proposal covmat\n",
      "[mcmc] Convergence of means: R-1 = 0.010150 after 1360 accepted steps\n",
      "[mcmc] Updated covariance matrix of proposal pdf.\n",
      "[mcmc] Checkpoint: 1440 samples accepted.\n",
      "[mcmc] Ready to check convergence and learn a new proposal covmat\n",
      "[mcmc] Convergence of means: R-1 = 0.009112 after 1440 accepted steps\n",
      "[mcmc] Updated covariance matrix of proposal pdf.\n",
      "[mcmc] Checkpoint: 1520 samples accepted.\n",
      "[mcmc] Ready to check convergence and learn a new proposal covmat\n",
      "[mcmc] Convergence of means: R-1 = 0.009148 after 1520 accepted steps\n",
      "[mcmc] Convergence of bounds: R-1 = 0.102011 after 1520 accepted steps\n",
      "[mcmc] The run has converged!\n",
      "[mcmc] Sampling complete after 1520 accepted steps.\n"
     ]
    }
   ],
   "source": [
    "from cobaya.run import run\n",
    "\n",
    "updated_info, sampler = run(info)"
   ]
  },
  {
   "cell_type": "code",
   "execution_count": 12,
   "metadata": {},
   "outputs": [
    {
     "name": "stdout",
     "output_type": "stream",
     "text": [
      "[root] *WARNING* outlier fraction 0.035526315789473684 \n",
      "Mean:\n",
      "[ 0.20938777 -0.00396501]\n",
      "Covariance matrix:\n",
      "[[0.09015921 0.03745944]\n",
      " [0.03745944 0.16615251]]\n"
     ]
    },
    {
     "data": {
      "image/png": "[encoded data removed]",
      "text/plain": [
       "<Figure size 288x288 with 3 Axes>"
      ]
     },
     "metadata": {},
     "output_type": "display_data"
    }
   ],
   "source": [
    "# Export the results to GetDist\n",
    "from getdist.mcsamples import MCSamplesFromCobaya\n",
    "\n",
    "gd_sample = MCSamplesFromCobaya(updated_info, sampler[\"sample\"])\n",
    "# Analyze and plot\n",
    "mean = gd_sample.getMeans()[:2]\n",
    "covmat = gd_sample.getCovMat().matrix[:2, :2]\n",
    "print(\"Mean:\")\n",
    "print(mean)\n",
    "print(\"Covariance matrix:\")\n",
    "print(covmat)\n",
    "%matplotlib inline  \n",
    "import getdist.plots as gdplt\n",
    "\n",
    "gdplot = gdplt.get_subplot_plotter()\n",
    "gdplot.triangle_plot(gd_sample, [\"a\", \"b\"], filled=True)"
   ]
  },
  {
   "cell_type": "code",
   "execution_count": null,
   "metadata": {},
   "outputs": [],
   "source": []
  }
 ],
 "metadata": {
  "kernelspec": {
   "display_name": "Python 3",
   "language": "python",
   "name": "python3"
  },
  "language_info": {
   "codemirror_mode": {
    "name": "ipython",
    "version": 3
   },
   "file_extension": ".py",
   "mimetype": "text/x-python",
   "name": "python",
   "nbconvert_exporter": "python",
   "pygments_lexer": "ipython3",
   "version": "3.6.5"
  }
 },
 "nbformat": 4,
 "nbformat_minor": 2
}
