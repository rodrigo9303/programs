{
 "cells": [
  {
   "cell_type": "markdown",
   "metadata": {},
   "source": [
    "In this notebook we wil test different possible estimators for combining several measurements of Hubble's constant $H_0$."
   ]
  },
  {
   "cell_type": "code",
   "execution_count": 1,
   "metadata": {},
   "outputs": [],
   "source": [
    "## This line will make plots appear inline\n",
    "%matplotlib inline\n",
    "## other useful modules\n",
    "import scipy\n",
    "import random\n",
    "from scipy import random\n",
    "from matplotlib.pyplot import hist,legend"
   ]
  },
  {
   "cell_type": "code",
   "execution_count": 2,
   "metadata": {},
   "outputs": [],
   "source": [
    "## We will do NMC realizations, and put the value of\n",
    "## each estimator in a variable H1,...,H5\n",
    "NMC=1000\n",
    "H1=scipy.zeros(NMC)\n",
    "H2=scipy.zeros(NMC)\n",
    "H3=scipy.zeros(NMC)\n",
    "H4=scipy.zeros(NMC)\n",
    "H5=scipy.zeros(NMC)"
   ]
  },
  {
   "cell_type": "code",
   "execution_count": 3,
   "metadata": {},
   "outputs": [],
   "source": [
    "## let's assume we have 10 measurements in each realization\n",
    "N_measurements=10\n",
    "H0 = 70. ## fiducial value km/s/Mpc\n",
    "## these are the uncertainties in each measurement\n",
    "## chosen in a completely arbitrary way\n",
    "sigma = scipy.array([1., 2., 6., 6., 5., 9., 2., 8., 15., 0.5])\n",
    "for i in range(NMC):\n",
    "    H = H0 + sigma*random.randn(N_measurements) ## this is an array of 10 entries\n",
    "    H1[i] = H[0] ## get the first element\n",
    "    H2[i] = scipy.mean(H)\n",
    "    H3[i] = 1/scipy.mean(1/H)\n",
    "    H4[i] = H[8] ## get the eight element\n",
    "    H5[i] = scipy.sum(H/sigma**2)/scipy.sum(1/sigma**2)"
   ]
  },
  {
   "cell_type": "code",
   "execution_count": 4,
   "metadata": {},
   "outputs": [
    {
     "data": {
      "text/plain": [
       "<matplotlib.legend.Legend at 0x7f507a4dc7f0>"
      ]
     },
     "execution_count": 4,
     "metadata": {},
     "output_type": "execute_result"
    },
    {
     "data": {
      "image/png": "[encoded data removed]",
      "text/plain": [
       "<Figure size 432x288 with 1 Axes>"
      ]
     },
     "metadata": {},
     "output_type": "display_data"
    }
   ],
   "source": [
    "## do the histograms\n",
    "hist(H1, bins=100, alpha=0.5, linewidth=0, range=(50,100), label=\"H1\")\n",
    "hist(H2, bins=100, alpha=0.5, linewidth=0, range=(50,100), label=\"H2\")\n",
    "hist(H3, bins=100, alpha=0.5, linewidth=0, range=(50,100), label=\"H3\")\n",
    "hist(H4, bins=100, alpha=0.5, linewidth=0, range=(50,100), label=\"H4\")\n",
    "hist(H5, bins=100, alpha=0.5, linewidth=0, range=(50,100), label=\"H5\")\n",
    "legend()"
   ]
  },
  {
   "cell_type": "code",
   "execution_count": 5,
   "metadata": {},
   "outputs": [
    {
     "name": "stdout",
     "output_type": "stream",
     "text": [
      "mean(H1): 70.00866916368952 STD(H1): 0.9893135197119507\n",
      "mean(H2): 69.96193718949357 STD(H2): 2.154486092388303\n",
      "mean(H3): 69.27167199303436 STD(H3): 2.4116397882338467\n",
      "mean(H4): 70.18640470956299 STD(H4): 15.536913316388615\n",
      "mean(H5): 69.9922846559491 STD(H5): 0.42355003002402214\n"
     ]
    }
   ],
   "source": [
    "## print the means and variances\n",
    "print(\"mean(H1): {} STD(H1): {}\".format(scipy.mean(H1),scipy.std(H1)))\n",
    "print(\"mean(H2): {} STD(H2): {}\".format(scipy.mean(H2),scipy.std(H2)))\n",
    "print(\"mean(H3): {} STD(H3): {}\".format(scipy.mean(H3),scipy.std(H3)))\n",
    "print(\"mean(H4): {} STD(H4): {}\".format(scipy.mean(H4),scipy.std(H4)))\n",
    "print(\"mean(H5): {} STD(H5): {}\".format(scipy.mean(H5),scipy.std(H5)))"
   ]
  },
  {
   "cell_type": "markdown",
   "metadata": {},
   "source": [
    "\n",
    "\n",
    "great!! Team 5. has the lowest variance estimator!\n"
   ]
  },
  {
   "cell_type": "markdown",
   "metadata": {},
   "source": [
    "Follow [Nicolas Buscas](https://github.com/ngbusca/notebooks/blob/master/CosmoAdv/Testing%20estimators.ipynb)"
   ]
  },
  {
   "cell_type": "code",
   "execution_count": null,
   "metadata": {},
   "outputs": [],
   "source": []
  }
 ],
 "metadata": {
  "kernelspec": {
   "display_name": "Python 3",
   "language": "python",
   "name": "python3"
  },
  "language_info": {
   "codemirror_mode": {
    "name": "ipython",
    "version": 3
   },
   "file_extension": ".py",
   "mimetype": "text/x-python",
   "name": "python",
   "nbconvert_exporter": "python",
   "pygments_lexer": "ipython3",
   "version": "3.6.6"
  }
 },
 "nbformat": 4,
 "nbformat_minor": 2
}
