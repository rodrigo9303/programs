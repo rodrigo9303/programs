{
 "cells": [
  {
   "cell_type": "markdown",
   "metadata": {},
   "source": [
    "## El propósito del notebook es hacer un ejemplo del teorema de límite central."
   ]
  },
  {
   "cell_type": "code",
   "execution_count": 1,
   "metadata": {},
   "outputs": [],
   "source": [
    "import scipy as sp\n",
    "from scipy import random\n",
    "from matplotlib.pyplot import hist,plot\n",
    "%matplotlib inline"
   ]
  },
  {
   "cell_type": "code",
   "execution_count": 14,
   "metadata": {},
   "outputs": [
    {
     "data": {
      "text/plain": [
       "[<matplotlib.lines.Line2D at 0x7fb0d9cfa400>]"
      ]
     },
     "execution_count": 14,
     "metadata": {},
     "output_type": "execute_result"
    },
    {
     "data": {
      "image/png": "[encoded data removed]",
      "text/plain": [
       "<Figure size 432x288 with 1 Axes>"
      ]
     },
     "metadata": {},
     "output_type": "display_data"
    }
   ],
   "source": [
    "## do NMC Monte-Carlo realizations\n",
    "NMC = 10000\n",
    "## N is the number of samples that we will average\n",
    "N = 1\n",
    "y = sp.zeros(NMC)\n",
    "for i in range(NMC):\n",
    "    y[i] = sp.mean(-1+2*random.rand(N))\n",
    "    \n",
    "## draw a histogram of the average values of y:\n",
    "_=hist(y, bins=50,density=True)#,normed=True)\n",
    "\n",
    "## let's overplot a gaussian of zero mean\n",
    "## define the x values\n",
    "x=-4/sp.sqrt(N)+8/sp.sqrt(N)*sp.arange(100)/99.\n",
    "\n",
    "## the gaussian\n",
    "mu=0\n",
    "sigma = 1./sp.sqrt(3*N)\n",
    "gaussian = 1/sp.sqrt(2*sp.pi)/sigma*sp.exp(-(x-mu)**2/2/sigma**2)\n",
    "plot(x,gaussian)"
   ]
  },
  {
   "cell_type": "markdown",
   "metadata": {},
   "source": [
    "Par más detalles ver [Nicolas Buscas](https://github.com/ngbusca/notebooks/blob/master/CosmoAdv/Central%20Limit%20Theorem.ipynb)"
   ]
  },
  {
   "cell_type": "code",
   "execution_count": null,
   "metadata": {},
   "outputs": [],
   "source": []
  }
 ],
 "metadata": {
  "kernelspec": {
   "display_name": "Python 3",
   "language": "python",
   "name": "python3"
  },
  "language_info": {
   "codemirror_mode": {
    "name": "ipython",
    "version": 3
   },
   "file_extension": ".py",
   "mimetype": "text/x-python",
   "name": "python",
   "nbconvert_exporter": "python",
   "pygments_lexer": "ipython3",
   "version": "3.6.5"
  }
 },
 "nbformat": 4,
 "nbformat_minor": 2
}
