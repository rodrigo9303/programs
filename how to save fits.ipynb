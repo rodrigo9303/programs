{
 "cells": [
  {
   "cell_type": "markdown",
   "metadata": {},
   "source": [
    "# The purpose of this notebook is to learn to save a .fits file."
   ]
  },
  {
   "cell_type": "code",
   "execution_count": 122,
   "metadata": {},
   "outputs": [],
   "source": [
    "import numpy as np\n",
    "import matplotlib.pyplot as plt\n",
    "#import fitsio \n",
    "from astropy.io import fits\n",
    "from astropy.table import Table,Column\n",
    "from glob import glob\n",
    "%matplotlib inline"
   ]
  },
  {
   "cell_type": "code",
   "execution_count": 2,
   "metadata": {},
   "outputs": [],
   "source": [
    "wavemr,fluxmr=np.loadtxt('mock_2.6_z_2.8.dat',skiprows=2,unpack=True) # data of mock of Rodrigo's\n",
    "wavedr,fluxdr=np.loadtxt('boss_2.6<z<2.8.dat',skiprows=2,unpack=True) # data of boss data of Rodrigo's\n",
    "wavemh,fluxmh=np.loadtxt('Mock.dat',skiprows=2,unpack=True)           # data of mock of Hélion's\n",
    "wavedh,fluxdh=np.loadtxt('Data.dat',skiprows=2,unpack=True)           # data of boss data of Hélion's \n",
    "stdmockr = np.loadtxt('std_mock_2.6_z_2.8.dat',skiprows=1,unpack=True) # data of standar desviation of mock of Rodrigo's\n",
    "stddatar = np.loadtxt('std_boss_2.6<z<2.8.dat',skiprows=1,unpack=True)"
   ]
  },
  {
   "cell_type": "code",
   "execution_count": 3,
   "metadata": {},
   "outputs": [],
   "source": [
    "wavemr2,fluxmr2=np.loadtxt('mock_2.2_z_2.4.dat',skiprows=2,unpack=True)\n",
    "wavemr3,fluxmr3=np.loadtxt('mock_3.0_z_3.2.dat',skiprows=2,unpack=True)\n",
    "wavemr4,fluxmr4=np.loadtxt('mock_3.4_z_3.6.dat',skiprows=2,unpack=True)"
   ]
  },
  {
   "cell_type": "markdown",
   "metadata": {},
   "source": [
    "This is a way to write a .fits file, but is not so good"
   ]
  },
  {
   "cell_type": "code",
   "execution_count": 4,
   "metadata": {},
   "outputs": [],
   "source": [
    "header = fits.Header()\n",
    "header['primero'] = (wavemr2[0],'wavelength 2.2 - 2.4')\n",
    "header['segundo'] = (wavemr[0],'wavelength 2.6 - 2.8')\n",
    "\n",
    "hdus = fits.HDUList()\n",
    "hdus.append(fits.PrimaryHDU(fluxmr2, header=header))\n",
    "hdus.append(fits.ImageHDU(fluxmr, header=header, name = 'Flujo 2.6 - 2.8'))\n",
    "\n",
    "hdus.writeto('stacks.fits', overwrite=True)"
   ]
  },
  {
   "cell_type": "markdown",
   "metadata": {},
   "source": [
    "This way is wonderful for save a .fits file"
   ]
  },
  {
   "cell_type": "code",
   "execution_count": 114,
   "metadata": {},
   "outputs": [],
   "source": [
    "columnas_wave = [('wavelength 2.2 - 2.4', 'f8'), ('wavelength 2.6 - 2.8  (712,)', 'f8'), ('wavelength 3.0 - 3.2  (636,)', 'f8'), ('wavelength 3.4 - 3.6  (574,)', 'f8')]\n",
    "waves = Table(np.zeros(len(wavemr2),dtype=columnas_wave))\n",
    "waves['wavelength 2.2 - 2.4'][:] = wavemr2\n",
    "waves['wavelength 2.6 - 2.8  (712,)'][:712] = wavemr\n",
    "waves['wavelength 3.0 - 3.2  (636,)'][:636] = wavemr3\n",
    "waves['wavelength 3.4 - 3.6  (574,)'][:574] = wavemr4\n",
    "\n",
    "columnas_flux = [('flux 2.2 - 2.4', 'f8'), ('flux 2.6 - 2.8  (712,)', 'f8'), ('flux 3.0 - 3.2  (636,)', 'f8'), ('flux 3.4 - 3.6  (574,)', 'f8')]\n",
    "fluxs = Table(np.zeros(len(fluxmr2),dtype=columnas_flux))\n",
    "fluxs['flux 2.2 - 2.4'][:] = fluxmr2\n",
    "fluxs['flux 2.6 - 2.8  (712,)'][:712] = fluxmr\n",
    "fluxs['flux 3.0 - 3.2  (636,)'][:636] = fluxmr3\n",
    "fluxs['flux 3.4 - 3.6  (574,)'][:574] = fluxmr4\n",
    "\n",
    "columnas_std = [('standard deviation 2.4-2.6 mock', 'f8'), ('standard deviation 2.4-2.6 data (667,)', 'f8')]\n",
    "std = Table(np.zeros(len(stdmockr),dtype=columnas_std))\n",
    "std['standard deviation 2.4-2.6 mock'][:] = stdmockr\n",
    "std['standard deviation 2.4-2.6 data (667,)'][:667] = stddatar\n",
    "\n",
    "hwaves = fits.convenience.table_to_hdu(waves); hwaves.name='WAVELENGTHS'\n",
    "hfluxs = fits.convenience.table_to_hdu(fluxs); hfluxs.name='Fluxs'\n",
    "hstd = fits.convenience.table_to_hdu(std); hstd.name='standard deviation'\n",
    "hdulist = fits.HDUList([fits.PrimaryHDU(),hwaves,hfluxs,hstd])\n",
    "hdulist.writeto('stacks2.fits', overwrite=True)"
   ]
  },
  {
   "cell_type": "code",
   "execution_count": 115,
   "metadata": {},
   "outputs": [
    {
     "data": {
      "text/plain": [
       "\n",
       "  file: /home/rodrigo/Documentos/maestria/ultimo_año/programas/stacking/stacks2.fits\n",
       "  mode: READONLY\n",
       "  extnum hdutype         hduname[v]\n",
       "  0      IMAGE_HDU       \n",
       "  1      BINARY_TBL      WAVELENGTHS\n",
       "  2      BINARY_TBL      FLUXS\n",
       "  3      BINARY_TBL      STANDARD DEVIATION"
      ]
     },
     "execution_count": 115,
     "metadata": {},
     "output_type": "execute_result"
    }
   ],
   "source": [
    "import fitsio\n",
    "fdir = '/home/rodrigo/Documentos/maestria/ultimo_año/programas/stacking/stacks2.fits'\n",
    "DM = fitsio.FITS(fdir)\n",
    "DM"
   ]
  },
  {
   "cell_type": "code",
   "execution_count": 117,
   "metadata": {},
   "outputs": [
    {
     "data": {
      "text/plain": [
       "[('wavelength 2.2 - 2.4', '>f8'),\n",
       " ('wavelength 2.6 - 2.8  (712,)', '>f8'),\n",
       " ('wavelength 3.0 - 3.2  (636,)', '>f8'),\n",
       " ('wavelength 3.4 - 3.6  (574,)', '>f8')]"
      ]
     },
     "execution_count": 117,
     "metadata": {},
     "output_type": "execute_result"
    }
   ],
   "source": [
    "wm = fitsio.read(fdir,'wavelengths')\n",
    "wm.dtype.descr"
   ]
  },
  {
   "cell_type": "code",
   "execution_count": 118,
   "metadata": {},
   "outputs": [
    {
     "data": {
      "text/plain": [
       "[('flux 2.2 - 2.4', '>f8'),\n",
       " ('flux 2.6 - 2.8  (712,)', '>f8'),\n",
       " ('flux 3.0 - 3.2  (636,)', '>f8'),\n",
       " ('flux 3.4 - 3.6  (574,)', '>f8')]"
      ]
     },
     "execution_count": 118,
     "metadata": {},
     "output_type": "execute_result"
    }
   ],
   "source": [
    "fm = fitsio.read(fdir,'fluxs')\n",
    "fm.dtype.descr"
   ]
  },
  {
   "cell_type": "code",
   "execution_count": 121,
   "metadata": {},
   "outputs": [
    {
     "data": {
      "text/plain": [
       "[('standard deviation 2.4-2.6 mock', '>f8'),\n",
       " ('standard deviation 2.4-2.6 data (667,)', '>f8')]"
      ]
     },
     "execution_count": 121,
     "metadata": {},
     "output_type": "execute_result"
    }
   ],
   "source": [
    "sm = fitsio.read(fdir,'standard deviation')\n",
    "sm.dtype.descr"
   ]
  },
  {
   "cell_type": "code",
   "execution_count": 125,
   "metadata": {},
   "outputs": [
    {
     "data": {
      "text/plain": [
       "Text(0,0.5,'Flux')"
      ]
     },
     "execution_count": 125,
     "metadata": {},
     "output_type": "execute_result"
    },
    {
     "data": {
      "image/png": "[encoded data removed]",
      "text/plain": [
       "<Figure size 432x288 with 1 Axes>"
      ]
     },
     "metadata": {},
     "output_type": "display_data"
    }
   ],
   "source": [
    "plt.plot(wm['wavelength 2.6 - 2.8  (712,)'][:712],fm['flux 2.6 - 2.8  (712,)'][:712])\n",
    "plt.xlabel('Wavelength')\n",
    "plt.ylabel('Flux')"
   ]
  },
  {
   "cell_type": "code",
   "execution_count": null,
   "metadata": {},
   "outputs": [],
   "source": []
  }
 ],
 "metadata": {
  "kernelspec": {
   "display_name": "Python 3",
   "language": "python",
   "name": "python3"
  },
  "language_info": {
   "codemirror_mode": {
    "name": "ipython",
    "version": 3
   },
   "file_extension": ".py",
   "mimetype": "text/x-python",
   "name": "python",
   "nbconvert_exporter": "python",
   "pygments_lexer": "ipython3",
   "version": "3.6.5"
  }
 },
 "nbformat": 4,
 "nbformat_minor": 2
}
