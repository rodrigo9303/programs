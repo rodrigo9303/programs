{
 "cells": [
  {
   "cell_type": "markdown",
   "metadata": {},
   "source": [
    "# The purpose of this notebook is to add new emission lines to the table that SIMQSO uses."
   ]
  },
  {
   "cell_type": "markdown",
   "metadata": {},
   "source": [
    "Import modules."
   ]
  },
  {
   "cell_type": "code",
   "execution_count": 1,
   "metadata": {},
   "outputs": [
    {
     "name": "stdout",
     "output_type": "stream",
     "text": [
      "Populating the interactive namespace from numpy and matplotlib\n"
     ]
    }
   ],
   "source": [
    "import matplotlib.pyplot as plt\n",
    "from astropy.io import fits\n",
    "from astropy.table import Table\n",
    "%pylab inline\n",
    "%matplotlib inline"
   ]
  },
  {
   "cell_type": "markdown",
   "metadata": {},
   "source": [
    "Let's go to the path of the table in SIMQSO."
   ]
  },
  {
   "cell_type": "code",
   "execution_count": 2,
   "metadata": {},
   "outputs": [],
   "source": [
    "direc = '/global/cscratch1/sd/rodcn25/desi/code/simqso/simqso/data/emlinetrends_v6.fits'\n",
    "trendsv6 = Table.read(direc)"
   ]
  },
  {
   "cell_type": "markdown",
   "metadata": {},
   "source": [
    "Let's see the information in this table."
   ]
  },
  {
   "cell_type": "code",
   "execution_count": 3,
   "metadata": {},
   "outputs": [
    {
     "data": {
      "text/html": [
       "&lt;Table length=62&gt;\n",
       "<table id=\"table46913336732752-711175\" class=\"table-striped table-bordered table-condensed\">\n",
       "<thead><tr><th>idx</th><th>name</th><th>wavelength [3,2]</th><th>logEW [3,2]</th><th>logWidth [3,2]</th></tr></thead>\n",
       "<tr><td>0</td><td>LyB</td><td>0.10699 .. 1037.2</td><td>0.0488139 .. 2.13166</td><td>6.31902e-16 .. 0.844357</td></tr>\n",
       "<tr><td>1</td><td>ArI</td><td>-0.184201 .. 1064.61</td><td>0.0293174 .. 1.57807</td><td>0.00230657 .. 1.26721</td></tr>\n",
       "<tr><td>2</td><td>FeIII:UV1</td><td>-8.12049e-14 .. 1122.14</td><td>0.0367595 .. 1.64343</td><td>-0.0210671 .. 0.591703</td></tr>\n",
       "<tr><td>3</td><td>CIII*</td><td>-8.12049e-14 .. 1175.55</td><td>0.0 .. 0.798694</td><td>-3.15951e-16 .. 1.08062</td></tr>\n",
       "<tr><td>4</td><td>LyAn</td><td>-0.00322876 .. 1216.4</td><td>0.0756195 .. 3.12674</td><td>3.15951e-16 .. 0.680309</td></tr>\n",
       "<tr><td>5</td><td>LyAb</td><td>-2.43615e-13 .. 1216.96</td><td>0.0984444 .. 4.2235</td><td>-0.0485184 .. -0.00903191</td></tr>\n",
       "<tr><td>6</td><td>NV</td><td>0.0 .. 1239.51</td><td>0.0 .. 1.1772</td><td>0.0 .. 0.98593</td></tr>\n",
       "<tr><td>7</td><td>SiII</td><td>8.12049e-14 .. 1262.29</td><td>0.00863063 .. 1.03724</td><td>3.15951e-16 .. 0.995092</td></tr>\n",
       "<tr><td>8</td><td>OI</td><td>-0.15842 .. 1301.9</td><td>3.94939e-17 .. 0.66523</td><td>1.57975e-16 .. 1.00676</td></tr>\n",
       "<tr><td>9</td><td>CII</td><td>-0.507981 .. 1322.37</td><td>0.0252275 .. 1.24179</td><td>4.73926e-16 .. 1.11677</td></tr>\n",
       "<tr><td>10</td><td>SiIV+OIV]</td><td>0.200056 .. 1403.8</td><td>0.0175186 .. 1.59771</td><td>-0.0049154 .. 1.04186</td></tr>\n",
       "<tr><td>11</td><td>L1480</td><td>0.0 .. 1488.04</td><td>1.97469e-17 .. 0.24583</td><td>4.73926e-16 .. 1.02408</td></tr>\n",
       "<tr><td>12</td><td>CIVn</td><td>-8.12049e-14 .. 1547.26</td><td>0.114011 .. 4.09147</td><td>-0.0148306 .. 0.394552</td></tr>\n",
       "<tr><td>13</td><td>CIVb</td><td>0.819147 .. 1569.84</td><td>0.0923357 .. 3.8329</td><td>-0.0114892 .. 1.04876</td></tr>\n",
       "<tr><td>14</td><td>HeII</td><td>0.0 .. 1636.33</td><td>0.0714372 .. 2.4695</td><td>-0.0125395 .. 0.658737</td></tr>\n",
       "<tr><td>15</td><td>OIII]</td><td>-0.357901 .. 1657.78</td><td>0.0403901 .. 1.83224</td><td>1.10583e-15 .. 1.13105</td></tr>\n",
       "<tr><td>16</td><td>L1690</td><td>0.0 .. 1691.89</td><td>0.200624 .. 4.10631</td><td>7.89877e-16 .. 0.980885</td></tr>\n",
       "<tr><td>17</td><td>NIII]</td><td>0.0 .. 1746.46</td><td>0.0158437 .. 1.04377</td><td>4.73926e-16 .. 0.975614</td></tr>\n",
       "<tr><td>18</td><td>SiII_1818</td><td>4.07526e-13 .. 1813.2</td><td>7.89877e-17 .. 0.617548</td><td>3.15951e-16 .. 1.15019</td></tr>\n",
       "<tr><td>19</td><td>AlIII</td><td>0.0 .. 1861.74</td><td>7.89877e-17 .. 0.803524</td><td>0.0 .. 1.16543</td></tr>\n",
       "<tr><td>20</td><td>SiIII]</td><td>0.0 .. 1892.86</td><td>0.103008 .. 1.94735</td><td>3.15951e-16 .. 0.675188</td></tr>\n",
       "<tr><td>21</td><td>CIII]b</td><td>-0.185168 .. 1899.73</td><td>0.02064 .. 1.86887</td><td>-0.00958685 .. 1.0387</td></tr>\n",
       "<tr><td>22</td><td>CIII]n</td><td>-8.12049e-14 .. 1907.11</td><td>3.94939e-17 .. 0.328889</td><td>4.73926e-16 .. 0.748584</td></tr>\n",
       "<tr><td>23</td><td>fe2120</td><td>0.0 .. 2120.0</td><td>0.0 .. 0.39794</td><td>0.0 .. 1.47712</td></tr>\n",
       "<tr><td>24</td><td>fe2220</td><td>0.0 .. 2220.0</td><td>0.0 .. 0.544068</td><td>0.0 .. 1.87506</td></tr>\n",
       "<tr><td>25</td><td>MgIIb</td><td>0.0 .. 2798.39</td><td>0.0711138 .. 3.31897</td><td>3.15951e-16 .. 1.42392</td></tr>\n",
       "<tr><td>26</td><td>MgIIn</td><td>-3.2482e-13 .. 2803.52</td><td>0.0644069 .. 2.75307</td><td>-1.57975e-16 .. 1.08194</td></tr>\n",
       "<tr><td>27</td><td>OIII_3133</td><td>0.0 .. 3127.7</td><td>0.0 .. -0.0155015</td><td>0.0 .. 1.0222</td></tr>\n",
       "<tr><td>28</td><td>[NeV]3346</td><td>0.0 .. 3345.39</td><td>0.0 .. -0.405932</td><td>0.0 .. 0.790363</td></tr>\n",
       "<tr><td>29</td><td>[NeV]3426</td><td>0.0 .. 3425.66</td><td>0.0 .. 0.13636</td><td>0.0 .. 1.00856</td></tr>\n",
       "<tr><td>30</td><td>[OII]3728</td><td>0.0 .. 3729.66</td><td>0.0 .. 0.243125</td><td>0.0 .. 0.571138</td></tr>\n",
       "<tr><td>31</td><td>[NeIII]3869</td><td>0.0 .. 3869.77</td><td>0.0 .. 0.189879</td><td>0.0 .. 0.775095</td></tr>\n",
       "<tr><td>32</td><td>HeI3889</td><td>0.0 .. 3891.03</td><td>0.0 .. -1.04691</td><td>0.0 .. 0.355351</td></tr>\n",
       "<tr><td>33</td><td>[NeIII]3968</td><td>0.0 .. 3968.43</td><td>0.0 .. -0.296788</td><td>0.0 .. 0.775912</td></tr>\n",
       "<tr><td>34</td><td>Hd</td><td>0.0 .. 4102.73</td><td>0.0 .. 0.753291</td><td>0.0 .. 1.31998</td></tr>\n",
       "<tr><td>35</td><td>Hg</td><td>0.0 .. 4346.42</td><td>0.0 .. 1.15106</td><td>0.0 .. 1.35792</td></tr>\n",
       "<tr><td>36</td><td>[OIII]4364</td><td>0.0 .. 4363.85</td><td>0.0 .. -0.287242</td><td>0.0 .. 0.541362</td></tr>\n",
       "<tr><td>37</td><td>Hbeta</td><td>0.0 .. 4862.68</td><td>0.0 .. 1.71474</td><td>0.0 .. 1.65681</td></tr>\n",
       "<tr><td>38</td><td>[OIII]4960</td><td>0.0 .. 4960.36</td><td>0.0 .. 0.594068</td><td>0.0 .. 0.635461</td></tr>\n",
       "<tr><td>39</td><td>[OIII]5008</td><td>0.0 .. 5008.22</td><td>0.0 .. 1.17156</td><td>0.0 .. 0.831037</td></tr>\n",
       "<tr><td>40</td><td>HeI_5877</td><td>0.0 .. 5877.41</td><td>0.0 .. 0.743727</td><td>0.0 .. 1.42014</td></tr>\n",
       "<tr><td>41</td><td>[OI]6302</td><td>0.0 .. 6303.05</td><td>0.0 .. 0.110698</td><td>0.0 .. 0.54693</td></tr>\n",
       "<tr><td>42</td><td>[OI]6365</td><td>0.0 .. 6370.46</td><td>0.0 .. 0.183539</td><td>0.0 .. 1.05775</td></tr>\n",
       "<tr><td>43</td><td>[NII]6549</td><td>0.0 .. 6551.06</td><td>0.0 .. -0.316532</td><td>0.0 .. 0.394392</td></tr>\n",
       "<tr><td>44</td><td>[NII]6585</td><td>0.0 .. 6585.64</td><td>0.0 .. 0.355351</td><td>0.0 .. 0.45824</td></tr>\n",
       "<tr><td>45</td><td>HAb</td><td>0.0 .. 6564.24</td><td>0.0 .. 2.35816</td><td>0.0 .. 2.34367</td></tr>\n",
       "<tr><td>46</td><td>HAn</td><td>0.0 .. 6564.94</td><td>0.0 .. 2.20996</td><td>0.0 .. 1.7764</td></tr>\n",
       "<tr><td>47</td><td>[SII]6718</td><td>0.0 .. 6718.85</td><td>0.0 .. 0.267484</td><td>0.0 .. 0.370146</td></tr>\n",
       "<tr><td>48</td><td>[SII]6732</td><td>0.0 .. 6733.72</td><td>0.0 .. 0.223186</td><td>0.0 .. 0.454834</td></tr>\n",
       "<tr><td>49</td><td>HeI7067</td><td>0.0 .. 7065.67</td><td>0.0 .. 0.535721</td><td>0.0 .. 1.2327</td></tr>\n",
       "<tr><td>50</td><td>[OII]7321</td><td>0.0 .. 7321.27</td><td>0.0 .. 0.451401</td><td>0.0 .. 1.20412</td></tr>\n",
       "<tr><td>51</td><td>OI8446</td><td>0.0 .. 8457.5</td><td>0.0 .. 1.07938</td><td>0.0 .. 2.06787</td></tr>\n",
       "<tr><td>52</td><td>[SIII]9069</td><td>0.0 .. 9076.8</td><td>0.0 .. -0.04691</td><td>0.0 .. 1.32875</td></tr>\n",
       "<tr><td>53</td><td>FeII9202</td><td>0.0 .. 9214.0</td><td>0.0 .. 0.594068</td><td>0.0 .. 1.96062</td></tr>\n",
       "<tr><td>54</td><td>Pae</td><td>0.0 .. 9534.4</td><td>0.0 .. 0.895098</td><td>0.0 .. 1.65097</td></tr>\n",
       "<tr><td>55</td><td>Pad</td><td>0.0 .. 10042.3</td><td>0.0 .. 1.37428</td><td>0.0 .. 2.25736</td></tr>\n",
       "<tr><td>56</td><td>HeI10830</td><td>0.0 .. 10829.1</td><td>0.0 .. 1.19613</td><td>0.0 .. 1.6063</td></tr>\n",
       "<tr><td>57</td><td>Pag</td><td>0.0 .. 10861.8</td><td>0.0 .. 2.17775</td><td>0.0 .. 2.42199</td></tr>\n",
       "<tr><td>58</td><td>OI11287</td><td>0.0 .. 11296.4</td><td>0.0 .. 0.568514</td><td>0.0 .. 1.94653</td></tr>\n",
       "<tr><td>59</td><td>Pabeta</td><td>0.0 .. 12821.3</td><td>0.0 .. 1.31482</td><td>0.0 .. 2.15823</td></tr>\n",
       "<tr><td>60</td><td>Paalpha</td><td>0.0 .. 18735.5</td><td>0.0 .. 1.1538</td><td>0.0 .. 2.34248</td></tr>\n",
       "<tr><td>61</td><td>HeI20580</td><td>0.0 .. 20506.8</td><td>0.0 .. 0.984498</td><td>0.0 .. 2.52784</td></tr>\n",
       "</table><style>table.dataTable {clear: both; width: auto !important; margin: 0 !important;}\n",
       ".dataTables_info, .dataTables_length, .dataTables_filter, .dataTables_paginate{\n",
       "display: inline-block; margin-right: 1em; }\n",
       ".paginate_button { margin-right: 5px; }\n",
       "</style>\n",
       "<script>\n",
       "\n",
       "var astropy_sort_num = function(a, b) {\n",
       "    var a_num = parseFloat(a);\n",
       "    var b_num = parseFloat(b);\n",
       "\n",
       "    if (isNaN(a_num) && isNaN(b_num))\n",
       "        return ((a < b) ? -1 : ((a > b) ? 1 : 0));\n",
       "    else if (!isNaN(a_num) && !isNaN(b_num))\n",
       "        return ((a_num < b_num) ? -1 : ((a_num > b_num) ? 1 : 0));\n",
       "    else\n",
       "        return isNaN(a_num) ? -1 : 1;\n",
       "}\n",
       "\n",
       "require.config({paths: {\n",
       "    datatables: 'https://cdn.datatables.net/1.10.12/js/jquery.dataTables.min'\n",
       "}});\n",
       "require([\"datatables\"], function(){\n",
       "    console.log(\"$('#table46913336732752-711175').dataTable()\");\n",
       "    \n",
       "jQuery.extend( jQuery.fn.dataTableExt.oSort, {\n",
       "    \"optionalnum-asc\": astropy_sort_num,\n",
       "    \"optionalnum-desc\": function (a,b) { return -astropy_sort_num(a, b); }\n",
       "});\n",
       "\n",
       "    $('#table46913336732752-711175').dataTable({\n",
       "        order: [],\n",
       "        pageLength: 50,\n",
       "        lengthMenu: [[10, 25, 50, 100, 500, 1000, -1], [10, 25, 50, 100, 500, 1000, 'All']],\n",
       "        pagingType: \"full_numbers\",\n",
       "        columnDefs: [{targets: [0, 2, 3, 4], type: \"optionalnum\"}]\n",
       "    });\n",
       "});\n",
       "</script>\n"
      ],
      "text/plain": [
       "<IPython.core.display.HTML object>"
      ]
     },
     "execution_count": 3,
     "metadata": {},
     "output_type": "execute_result"
    }
   ],
   "source": [
    "trendsv6.show_in_notebook()"
   ]
  },
  {
   "cell_type": "markdown",
   "metadata": {},
   "source": [
    "Let's add the new emission lines."
   ]
  },
  {
   "cell_type": "code",
   "execution_count": 4,
   "metadata": {},
   "outputs": [],
   "source": [
    "trendsv7 = trendsv6.copy()   ### Firts copy the table emlinetrends_v6.fits.\n",
    "def add_line(name,wave,ew,sigma,ewscatter=0.2):\n",
    "        trendsv7.insert_row(0,(name,[[0,wave]],[[0,log10(ew)],[0,log10((1-ewscatter)*ew)],[0,log10((1+ewscatter)*ew)]],[[0,log10(sigma)]]))\n",
    "add_line('NIII991',991,2.0,5.0)\n",
    "add_line('CIII977',985.46,6.55,8.95) \n",
    "add_line('Lyepsdel',940.93,2.95,4.73)"
   ]
  },
  {
   "cell_type": "code",
   "execution_count": 6,
   "metadata": {},
   "outputs": [
    {
     "data": {
      "text/html": [
       "&lt;Table length=65&gt;\n",
       "<table id=\"table46913336732920-220961\" class=\"table-striped table-bordered table-condensed\">\n",
       "<thead><tr><th>idx</th><th>name</th><th>wavelength [3,2]</th><th>logEW [3,2]</th><th>logWidth [3,2]</th></tr></thead>\n",
       "<tr><td>0</td><td>Lyepsdel</td><td>0.0 .. 940.93</td><td>0.0 .. 0.549003</td><td>0.0 .. 0.674861</td></tr>\n",
       "<tr><td>1</td><td>CIII977</td><td>0.0 .. 985.46</td><td>0.0 .. 0.895423</td><td>0.0 .. 0.951823</td></tr>\n",
       "<tr><td>2</td><td>NIII991</td><td>0.0 .. 991.0</td><td>0.0 .. 0.380211</td><td>0.0 .. 0.69897</td></tr>\n",
       "<tr><td>3</td><td>LyB</td><td>0.10699 .. 1037.2</td><td>0.0488139 .. 2.13166</td><td>6.31902e-16 .. 0.844357</td></tr>\n",
       "<tr><td>4</td><td>ArI</td><td>-0.184201 .. 1064.61</td><td>0.0293174 .. 1.57807</td><td>0.00230657 .. 1.26721</td></tr>\n",
       "<tr><td>5</td><td>FeIII:UV1</td><td>-8.12049e-14 .. 1122.14</td><td>0.0367595 .. 1.64343</td><td>-0.0210671 .. 0.591703</td></tr>\n",
       "<tr><td>6</td><td>CIII*</td><td>-8.12049e-14 .. 1175.55</td><td>0.0 .. 0.798694</td><td>-3.15951e-16 .. 1.08062</td></tr>\n",
       "<tr><td>7</td><td>LyAn</td><td>-0.00322876 .. 1216.4</td><td>0.0756195 .. 3.12674</td><td>3.15951e-16 .. 0.680309</td></tr>\n",
       "<tr><td>8</td><td>LyAb</td><td>-2.43615e-13 .. 1216.96</td><td>0.0984444 .. 4.2235</td><td>-0.0485184 .. -0.00903191</td></tr>\n",
       "<tr><td>9</td><td>NV</td><td>0.0 .. 1239.51</td><td>0.0 .. 1.1772</td><td>0.0 .. 0.98593</td></tr>\n",
       "<tr><td>10</td><td>SiII</td><td>8.12049e-14 .. 1262.29</td><td>0.00863063 .. 1.03724</td><td>3.15951e-16 .. 0.995092</td></tr>\n",
       "<tr><td>11</td><td>OI</td><td>-0.15842 .. 1301.9</td><td>3.94939e-17 .. 0.66523</td><td>1.57975e-16 .. 1.00676</td></tr>\n",
       "<tr><td>12</td><td>CII</td><td>-0.507981 .. 1322.37</td><td>0.0252275 .. 1.24179</td><td>4.73926e-16 .. 1.11677</td></tr>\n",
       "<tr><td>13</td><td>SiIV+OIV]</td><td>0.200056 .. 1403.8</td><td>0.0175186 .. 1.59771</td><td>-0.0049154 .. 1.04186</td></tr>\n",
       "<tr><td>14</td><td>L1480</td><td>0.0 .. 1488.04</td><td>1.97469e-17 .. 0.24583</td><td>4.73926e-16 .. 1.02408</td></tr>\n",
       "<tr><td>15</td><td>CIVn</td><td>-8.12049e-14 .. 1547.26</td><td>0.114011 .. 4.09147</td><td>-0.0148306 .. 0.394552</td></tr>\n",
       "<tr><td>16</td><td>CIVb</td><td>0.819147 .. 1569.84</td><td>0.0923357 .. 3.8329</td><td>-0.0114892 .. 1.04876</td></tr>\n",
       "<tr><td>17</td><td>HeII</td><td>0.0 .. 1636.33</td><td>0.0714372 .. 2.4695</td><td>-0.0125395 .. 0.658737</td></tr>\n",
       "<tr><td>18</td><td>OIII]</td><td>-0.357901 .. 1657.78</td><td>0.0403901 .. 1.83224</td><td>1.10583e-15 .. 1.13105</td></tr>\n",
       "<tr><td>19</td><td>L1690</td><td>0.0 .. 1691.89</td><td>0.200624 .. 4.10631</td><td>7.89877e-16 .. 0.980885</td></tr>\n",
       "<tr><td>20</td><td>NIII]</td><td>0.0 .. 1746.46</td><td>0.0158437 .. 1.04377</td><td>4.73926e-16 .. 0.975614</td></tr>\n",
       "<tr><td>21</td><td>SiII_1818</td><td>4.07526e-13 .. 1813.2</td><td>7.89877e-17 .. 0.617548</td><td>3.15951e-16 .. 1.15019</td></tr>\n",
       "<tr><td>22</td><td>AlIII</td><td>0.0 .. 1861.74</td><td>7.89877e-17 .. 0.803524</td><td>0.0 .. 1.16543</td></tr>\n",
       "<tr><td>23</td><td>SiIII]</td><td>0.0 .. 1892.86</td><td>0.103008 .. 1.94735</td><td>3.15951e-16 .. 0.675188</td></tr>\n",
       "<tr><td>24</td><td>CIII]b</td><td>-0.185168 .. 1899.73</td><td>0.02064 .. 1.86887</td><td>-0.00958685 .. 1.0387</td></tr>\n",
       "<tr><td>25</td><td>CIII]n</td><td>-8.12049e-14 .. 1907.11</td><td>3.94939e-17 .. 0.328889</td><td>4.73926e-16 .. 0.748584</td></tr>\n",
       "<tr><td>26</td><td>fe2120</td><td>0.0 .. 2120.0</td><td>0.0 .. 0.39794</td><td>0.0 .. 1.47712</td></tr>\n",
       "<tr><td>27</td><td>fe2220</td><td>0.0 .. 2220.0</td><td>0.0 .. 0.544068</td><td>0.0 .. 1.87506</td></tr>\n",
       "<tr><td>28</td><td>MgIIb</td><td>0.0 .. 2798.39</td><td>0.0711138 .. 3.31897</td><td>3.15951e-16 .. 1.42392</td></tr>\n",
       "<tr><td>29</td><td>MgIIn</td><td>-3.2482e-13 .. 2803.52</td><td>0.0644069 .. 2.75307</td><td>-1.57975e-16 .. 1.08194</td></tr>\n",
       "<tr><td>30</td><td>OIII_3133</td><td>0.0 .. 3127.7</td><td>0.0 .. -0.0155015</td><td>0.0 .. 1.0222</td></tr>\n",
       "<tr><td>31</td><td>[NeV]3346</td><td>0.0 .. 3345.39</td><td>0.0 .. -0.405932</td><td>0.0 .. 0.790363</td></tr>\n",
       "<tr><td>32</td><td>[NeV]3426</td><td>0.0 .. 3425.66</td><td>0.0 .. 0.13636</td><td>0.0 .. 1.00856</td></tr>\n",
       "<tr><td>33</td><td>[OII]3728</td><td>0.0 .. 3729.66</td><td>0.0 .. 0.243125</td><td>0.0 .. 0.571138</td></tr>\n",
       "<tr><td>34</td><td>[NeIII]3869</td><td>0.0 .. 3869.77</td><td>0.0 .. 0.189879</td><td>0.0 .. 0.775095</td></tr>\n",
       "<tr><td>35</td><td>HeI3889</td><td>0.0 .. 3891.03</td><td>0.0 .. -1.04691</td><td>0.0 .. 0.355351</td></tr>\n",
       "<tr><td>36</td><td>[NeIII]3968</td><td>0.0 .. 3968.43</td><td>0.0 .. -0.296788</td><td>0.0 .. 0.775912</td></tr>\n",
       "<tr><td>37</td><td>Hd</td><td>0.0 .. 4102.73</td><td>0.0 .. 0.753291</td><td>0.0 .. 1.31998</td></tr>\n",
       "<tr><td>38</td><td>Hg</td><td>0.0 .. 4346.42</td><td>0.0 .. 1.15106</td><td>0.0 .. 1.35792</td></tr>\n",
       "<tr><td>39</td><td>[OIII]4364</td><td>0.0 .. 4363.85</td><td>0.0 .. -0.287242</td><td>0.0 .. 0.541362</td></tr>\n",
       "<tr><td>40</td><td>Hbeta</td><td>0.0 .. 4862.68</td><td>0.0 .. 1.71474</td><td>0.0 .. 1.65681</td></tr>\n",
       "<tr><td>41</td><td>[OIII]4960</td><td>0.0 .. 4960.36</td><td>0.0 .. 0.594068</td><td>0.0 .. 0.635461</td></tr>\n",
       "<tr><td>42</td><td>[OIII]5008</td><td>0.0 .. 5008.22</td><td>0.0 .. 1.17156</td><td>0.0 .. 0.831037</td></tr>\n",
       "<tr><td>43</td><td>HeI_5877</td><td>0.0 .. 5877.41</td><td>0.0 .. 0.743727</td><td>0.0 .. 1.42014</td></tr>\n",
       "<tr><td>44</td><td>[OI]6302</td><td>0.0 .. 6303.05</td><td>0.0 .. 0.110698</td><td>0.0 .. 0.54693</td></tr>\n",
       "<tr><td>45</td><td>[OI]6365</td><td>0.0 .. 6370.46</td><td>0.0 .. 0.183539</td><td>0.0 .. 1.05775</td></tr>\n",
       "<tr><td>46</td><td>[NII]6549</td><td>0.0 .. 6551.06</td><td>0.0 .. -0.316532</td><td>0.0 .. 0.394392</td></tr>\n",
       "<tr><td>47</td><td>[NII]6585</td><td>0.0 .. 6585.64</td><td>0.0 .. 0.355351</td><td>0.0 .. 0.45824</td></tr>\n",
       "<tr><td>48</td><td>HAb</td><td>0.0 .. 6564.24</td><td>0.0 .. 2.35816</td><td>0.0 .. 2.34367</td></tr>\n",
       "<tr><td>49</td><td>HAn</td><td>0.0 .. 6564.94</td><td>0.0 .. 2.20996</td><td>0.0 .. 1.7764</td></tr>\n",
       "<tr><td>50</td><td>[SII]6718</td><td>0.0 .. 6718.85</td><td>0.0 .. 0.267484</td><td>0.0 .. 0.370146</td></tr>\n",
       "<tr><td>51</td><td>[SII]6732</td><td>0.0 .. 6733.72</td><td>0.0 .. 0.223186</td><td>0.0 .. 0.454834</td></tr>\n",
       "<tr><td>52</td><td>HeI7067</td><td>0.0 .. 7065.67</td><td>0.0 .. 0.535721</td><td>0.0 .. 1.2327</td></tr>\n",
       "<tr><td>53</td><td>[OII]7321</td><td>0.0 .. 7321.27</td><td>0.0 .. 0.451401</td><td>0.0 .. 1.20412</td></tr>\n",
       "<tr><td>54</td><td>OI8446</td><td>0.0 .. 8457.5</td><td>0.0 .. 1.07938</td><td>0.0 .. 2.06787</td></tr>\n",
       "<tr><td>55</td><td>[SIII]9069</td><td>0.0 .. 9076.8</td><td>0.0 .. -0.04691</td><td>0.0 .. 1.32875</td></tr>\n",
       "<tr><td>56</td><td>FeII9202</td><td>0.0 .. 9214.0</td><td>0.0 .. 0.594068</td><td>0.0 .. 1.96062</td></tr>\n",
       "<tr><td>57</td><td>Pae</td><td>0.0 .. 9534.4</td><td>0.0 .. 0.895098</td><td>0.0 .. 1.65097</td></tr>\n",
       "<tr><td>58</td><td>Pad</td><td>0.0 .. 10042.3</td><td>0.0 .. 1.37428</td><td>0.0 .. 2.25736</td></tr>\n",
       "<tr><td>59</td><td>HeI10830</td><td>0.0 .. 10829.1</td><td>0.0 .. 1.19613</td><td>0.0 .. 1.6063</td></tr>\n",
       "<tr><td>60</td><td>Pag</td><td>0.0 .. 10861.8</td><td>0.0 .. 2.17775</td><td>0.0 .. 2.42199</td></tr>\n",
       "<tr><td>61</td><td>OI11287</td><td>0.0 .. 11296.4</td><td>0.0 .. 0.568514</td><td>0.0 .. 1.94653</td></tr>\n",
       "<tr><td>62</td><td>Pabeta</td><td>0.0 .. 12821.3</td><td>0.0 .. 1.31482</td><td>0.0 .. 2.15823</td></tr>\n",
       "<tr><td>63</td><td>Paalpha</td><td>0.0 .. 18735.5</td><td>0.0 .. 1.1538</td><td>0.0 .. 2.34248</td></tr>\n",
       "<tr><td>64</td><td>HeI20580</td><td>0.0 .. 20506.8</td><td>0.0 .. 0.984498</td><td>0.0 .. 2.52784</td></tr>\n",
       "</table><style>table.dataTable {clear: both; width: auto !important; margin: 0 !important;}\n",
       ".dataTables_info, .dataTables_length, .dataTables_filter, .dataTables_paginate{\n",
       "display: inline-block; margin-right: 1em; }\n",
       ".paginate_button { margin-right: 5px; }\n",
       "</style>\n",
       "<script>\n",
       "\n",
       "var astropy_sort_num = function(a, b) {\n",
       "    var a_num = parseFloat(a);\n",
       "    var b_num = parseFloat(b);\n",
       "\n",
       "    if (isNaN(a_num) && isNaN(b_num))\n",
       "        return ((a < b) ? -1 : ((a > b) ? 1 : 0));\n",
       "    else if (!isNaN(a_num) && !isNaN(b_num))\n",
       "        return ((a_num < b_num) ? -1 : ((a_num > b_num) ? 1 : 0));\n",
       "    else\n",
       "        return isNaN(a_num) ? -1 : 1;\n",
       "}\n",
       "\n",
       "require.config({paths: {\n",
       "    datatables: 'https://cdn.datatables.net/1.10.12/js/jquery.dataTables.min'\n",
       "}});\n",
       "require([\"datatables\"], function(){\n",
       "    console.log(\"$('#table46913336732920-220961').dataTable()\");\n",
       "    \n",
       "jQuery.extend( jQuery.fn.dataTableExt.oSort, {\n",
       "    \"optionalnum-asc\": astropy_sort_num,\n",
       "    \"optionalnum-desc\": function (a,b) { return -astropy_sort_num(a, b); }\n",
       "});\n",
       "\n",
       "    $('#table46913336732920-220961').dataTable({\n",
       "        order: [],\n",
       "        pageLength: 50,\n",
       "        lengthMenu: [[10, 25, 50, 100, 500, 1000, -1], [10, 25, 50, 100, 500, 1000, 'All']],\n",
       "        pagingType: \"full_numbers\",\n",
       "        columnDefs: [{targets: [0, 2, 3, 4], type: \"optionalnum\"}]\n",
       "    });\n",
       "});\n",
       "</script>\n"
      ],
      "text/plain": [
       "<IPython.core.display.HTML object>"
      ]
     },
     "execution_count": 6,
     "metadata": {},
     "output_type": "execute_result"
    }
   ],
   "source": [
    "trendsv7.show_in_notebook()"
   ]
  },
  {
   "cell_type": "markdown",
   "metadata": {},
   "source": [
    "Let's remove the last three lines."
   ]
  },
  {
   "cell_type": "code",
   "execution_count": 7,
   "metadata": {},
   "outputs": [
    {
     "data": {
      "text/html": [
       "&lt;Table length=62&gt;\n",
       "<table id=\"table46913336732920-146012\" class=\"table-striped table-bordered table-condensed\">\n",
       "<thead><tr><th>idx</th><th>name</th><th>wavelength [3,2]</th><th>logEW [3,2]</th><th>logWidth [3,2]</th></tr></thead>\n",
       "<tr><td>0</td><td>Lyepsdel</td><td>0.0 .. 940.93</td><td>0.0 .. 0.549003</td><td>0.0 .. 0.674861</td></tr>\n",
       "<tr><td>1</td><td>CIII977</td><td>0.0 .. 985.46</td><td>0.0 .. 0.895423</td><td>0.0 .. 0.951823</td></tr>\n",
       "<tr><td>2</td><td>NIII991</td><td>0.0 .. 991.0</td><td>0.0 .. 0.380211</td><td>0.0 .. 0.69897</td></tr>\n",
       "<tr><td>3</td><td>LyB</td><td>0.10699 .. 1037.2</td><td>0.0488139 .. 2.13166</td><td>6.31902e-16 .. 0.844357</td></tr>\n",
       "<tr><td>4</td><td>ArI</td><td>-0.184201 .. 1064.61</td><td>0.0293174 .. 1.57807</td><td>0.00230657 .. 1.26721</td></tr>\n",
       "<tr><td>5</td><td>FeIII:UV1</td><td>-8.12049e-14 .. 1122.14</td><td>0.0367595 .. 1.64343</td><td>-0.0210671 .. 0.591703</td></tr>\n",
       "<tr><td>6</td><td>CIII*</td><td>-8.12049e-14 .. 1175.55</td><td>0.0 .. 0.798694</td><td>-3.15951e-16 .. 1.08062</td></tr>\n",
       "<tr><td>7</td><td>LyAn</td><td>-0.00322876 .. 1216.4</td><td>0.0756195 .. 3.12674</td><td>3.15951e-16 .. 0.680309</td></tr>\n",
       "<tr><td>8</td><td>LyAb</td><td>-2.43615e-13 .. 1216.96</td><td>0.0984444 .. 4.2235</td><td>-0.0485184 .. -0.00903191</td></tr>\n",
       "<tr><td>9</td><td>NV</td><td>0.0 .. 1239.51</td><td>0.0 .. 1.1772</td><td>0.0 .. 0.98593</td></tr>\n",
       "<tr><td>10</td><td>SiII</td><td>8.12049e-14 .. 1262.29</td><td>0.00863063 .. 1.03724</td><td>3.15951e-16 .. 0.995092</td></tr>\n",
       "<tr><td>11</td><td>OI</td><td>-0.15842 .. 1301.9</td><td>3.94939e-17 .. 0.66523</td><td>1.57975e-16 .. 1.00676</td></tr>\n",
       "<tr><td>12</td><td>CII</td><td>-0.507981 .. 1322.37</td><td>0.0252275 .. 1.24179</td><td>4.73926e-16 .. 1.11677</td></tr>\n",
       "<tr><td>13</td><td>SiIV+OIV]</td><td>0.200056 .. 1403.8</td><td>0.0175186 .. 1.59771</td><td>-0.0049154 .. 1.04186</td></tr>\n",
       "<tr><td>14</td><td>L1480</td><td>0.0 .. 1488.04</td><td>1.97469e-17 .. 0.24583</td><td>4.73926e-16 .. 1.02408</td></tr>\n",
       "<tr><td>15</td><td>CIVn</td><td>-8.12049e-14 .. 1547.26</td><td>0.114011 .. 4.09147</td><td>-0.0148306 .. 0.394552</td></tr>\n",
       "<tr><td>16</td><td>CIVb</td><td>0.819147 .. 1569.84</td><td>0.0923357 .. 3.8329</td><td>-0.0114892 .. 1.04876</td></tr>\n",
       "<tr><td>17</td><td>HeII</td><td>0.0 .. 1636.33</td><td>0.0714372 .. 2.4695</td><td>-0.0125395 .. 0.658737</td></tr>\n",
       "<tr><td>18</td><td>OIII]</td><td>-0.357901 .. 1657.78</td><td>0.0403901 .. 1.83224</td><td>1.10583e-15 .. 1.13105</td></tr>\n",
       "<tr><td>19</td><td>L1690</td><td>0.0 .. 1691.89</td><td>0.200624 .. 4.10631</td><td>7.89877e-16 .. 0.980885</td></tr>\n",
       "<tr><td>20</td><td>NIII]</td><td>0.0 .. 1746.46</td><td>0.0158437 .. 1.04377</td><td>4.73926e-16 .. 0.975614</td></tr>\n",
       "<tr><td>21</td><td>SiII_1818</td><td>4.07526e-13 .. 1813.2</td><td>7.89877e-17 .. 0.617548</td><td>3.15951e-16 .. 1.15019</td></tr>\n",
       "<tr><td>22</td><td>AlIII</td><td>0.0 .. 1861.74</td><td>7.89877e-17 .. 0.803524</td><td>0.0 .. 1.16543</td></tr>\n",
       "<tr><td>23</td><td>SiIII]</td><td>0.0 .. 1892.86</td><td>0.103008 .. 1.94735</td><td>3.15951e-16 .. 0.675188</td></tr>\n",
       "<tr><td>24</td><td>CIII]b</td><td>-0.185168 .. 1899.73</td><td>0.02064 .. 1.86887</td><td>-0.00958685 .. 1.0387</td></tr>\n",
       "<tr><td>25</td><td>CIII]n</td><td>-8.12049e-14 .. 1907.11</td><td>3.94939e-17 .. 0.328889</td><td>4.73926e-16 .. 0.748584</td></tr>\n",
       "<tr><td>26</td><td>fe2120</td><td>0.0 .. 2120.0</td><td>0.0 .. 0.39794</td><td>0.0 .. 1.47712</td></tr>\n",
       "<tr><td>27</td><td>fe2220</td><td>0.0 .. 2220.0</td><td>0.0 .. 0.544068</td><td>0.0 .. 1.87506</td></tr>\n",
       "<tr><td>28</td><td>MgIIb</td><td>0.0 .. 2798.39</td><td>0.0711138 .. 3.31897</td><td>3.15951e-16 .. 1.42392</td></tr>\n",
       "<tr><td>29</td><td>MgIIn</td><td>-3.2482e-13 .. 2803.52</td><td>0.0644069 .. 2.75307</td><td>-1.57975e-16 .. 1.08194</td></tr>\n",
       "<tr><td>30</td><td>OIII_3133</td><td>0.0 .. 3127.7</td><td>0.0 .. -0.0155015</td><td>0.0 .. 1.0222</td></tr>\n",
       "<tr><td>31</td><td>[NeV]3346</td><td>0.0 .. 3345.39</td><td>0.0 .. -0.405932</td><td>0.0 .. 0.790363</td></tr>\n",
       "<tr><td>32</td><td>[NeV]3426</td><td>0.0 .. 3425.66</td><td>0.0 .. 0.13636</td><td>0.0 .. 1.00856</td></tr>\n",
       "<tr><td>33</td><td>[OII]3728</td><td>0.0 .. 3729.66</td><td>0.0 .. 0.243125</td><td>0.0 .. 0.571138</td></tr>\n",
       "<tr><td>34</td><td>[NeIII]3869</td><td>0.0 .. 3869.77</td><td>0.0 .. 0.189879</td><td>0.0 .. 0.775095</td></tr>\n",
       "<tr><td>35</td><td>HeI3889</td><td>0.0 .. 3891.03</td><td>0.0 .. -1.04691</td><td>0.0 .. 0.355351</td></tr>\n",
       "<tr><td>36</td><td>[NeIII]3968</td><td>0.0 .. 3968.43</td><td>0.0 .. -0.296788</td><td>0.0 .. 0.775912</td></tr>\n",
       "<tr><td>37</td><td>Hd</td><td>0.0 .. 4102.73</td><td>0.0 .. 0.753291</td><td>0.0 .. 1.31998</td></tr>\n",
       "<tr><td>38</td><td>Hg</td><td>0.0 .. 4346.42</td><td>0.0 .. 1.15106</td><td>0.0 .. 1.35792</td></tr>\n",
       "<tr><td>39</td><td>[OIII]4364</td><td>0.0 .. 4363.85</td><td>0.0 .. -0.287242</td><td>0.0 .. 0.541362</td></tr>\n",
       "<tr><td>40</td><td>Hbeta</td><td>0.0 .. 4862.68</td><td>0.0 .. 1.71474</td><td>0.0 .. 1.65681</td></tr>\n",
       "<tr><td>41</td><td>[OIII]4960</td><td>0.0 .. 4960.36</td><td>0.0 .. 0.594068</td><td>0.0 .. 0.635461</td></tr>\n",
       "<tr><td>42</td><td>[OIII]5008</td><td>0.0 .. 5008.22</td><td>0.0 .. 1.17156</td><td>0.0 .. 0.831037</td></tr>\n",
       "<tr><td>43</td><td>HeI_5877</td><td>0.0 .. 5877.41</td><td>0.0 .. 0.743727</td><td>0.0 .. 1.42014</td></tr>\n",
       "<tr><td>44</td><td>[OI]6302</td><td>0.0 .. 6303.05</td><td>0.0 .. 0.110698</td><td>0.0 .. 0.54693</td></tr>\n",
       "<tr><td>45</td><td>[OI]6365</td><td>0.0 .. 6370.46</td><td>0.0 .. 0.183539</td><td>0.0 .. 1.05775</td></tr>\n",
       "<tr><td>46</td><td>[NII]6549</td><td>0.0 .. 6551.06</td><td>0.0 .. -0.316532</td><td>0.0 .. 0.394392</td></tr>\n",
       "<tr><td>47</td><td>[NII]6585</td><td>0.0 .. 6585.64</td><td>0.0 .. 0.355351</td><td>0.0 .. 0.45824</td></tr>\n",
       "<tr><td>48</td><td>HAb</td><td>0.0 .. 6564.24</td><td>0.0 .. 2.35816</td><td>0.0 .. 2.34367</td></tr>\n",
       "<tr><td>49</td><td>HAn</td><td>0.0 .. 6564.94</td><td>0.0 .. 2.20996</td><td>0.0 .. 1.7764</td></tr>\n",
       "<tr><td>50</td><td>[SII]6718</td><td>0.0 .. 6718.85</td><td>0.0 .. 0.267484</td><td>0.0 .. 0.370146</td></tr>\n",
       "<tr><td>51</td><td>[SII]6732</td><td>0.0 .. 6733.72</td><td>0.0 .. 0.223186</td><td>0.0 .. 0.454834</td></tr>\n",
       "<tr><td>52</td><td>HeI7067</td><td>0.0 .. 7065.67</td><td>0.0 .. 0.535721</td><td>0.0 .. 1.2327</td></tr>\n",
       "<tr><td>53</td><td>[OII]7321</td><td>0.0 .. 7321.27</td><td>0.0 .. 0.451401</td><td>0.0 .. 1.20412</td></tr>\n",
       "<tr><td>54</td><td>OI8446</td><td>0.0 .. 8457.5</td><td>0.0 .. 1.07938</td><td>0.0 .. 2.06787</td></tr>\n",
       "<tr><td>55</td><td>[SIII]9069</td><td>0.0 .. 9076.8</td><td>0.0 .. -0.04691</td><td>0.0 .. 1.32875</td></tr>\n",
       "<tr><td>56</td><td>FeII9202</td><td>0.0 .. 9214.0</td><td>0.0 .. 0.594068</td><td>0.0 .. 1.96062</td></tr>\n",
       "<tr><td>57</td><td>Pae</td><td>0.0 .. 9534.4</td><td>0.0 .. 0.895098</td><td>0.0 .. 1.65097</td></tr>\n",
       "<tr><td>58</td><td>Pad</td><td>0.0 .. 10042.3</td><td>0.0 .. 1.37428</td><td>0.0 .. 2.25736</td></tr>\n",
       "<tr><td>59</td><td>HeI10830</td><td>0.0 .. 10829.1</td><td>0.0 .. 1.19613</td><td>0.0 .. 1.6063</td></tr>\n",
       "<tr><td>60</td><td>Pag</td><td>0.0 .. 10861.8</td><td>0.0 .. 2.17775</td><td>0.0 .. 2.42199</td></tr>\n",
       "<tr><td>61</td><td>OI11287</td><td>0.0 .. 11296.4</td><td>0.0 .. 0.568514</td><td>0.0 .. 1.94653</td></tr>\n",
       "</table><style>table.dataTable {clear: both; width: auto !important; margin: 0 !important;}\n",
       ".dataTables_info, .dataTables_length, .dataTables_filter, .dataTables_paginate{\n",
       "display: inline-block; margin-right: 1em; }\n",
       ".paginate_button { margin-right: 5px; }\n",
       "</style>\n",
       "<script>\n",
       "\n",
       "var astropy_sort_num = function(a, b) {\n",
       "    var a_num = parseFloat(a);\n",
       "    var b_num = parseFloat(b);\n",
       "\n",
       "    if (isNaN(a_num) && isNaN(b_num))\n",
       "        return ((a < b) ? -1 : ((a > b) ? 1 : 0));\n",
       "    else if (!isNaN(a_num) && !isNaN(b_num))\n",
       "        return ((a_num < b_num) ? -1 : ((a_num > b_num) ? 1 : 0));\n",
       "    else\n",
       "        return isNaN(a_num) ? -1 : 1;\n",
       "}\n",
       "\n",
       "require.config({paths: {\n",
       "    datatables: 'https://cdn.datatables.net/1.10.12/js/jquery.dataTables.min'\n",
       "}});\n",
       "require([\"datatables\"], function(){\n",
       "    console.log(\"$('#table46913336732920-146012').dataTable()\");\n",
       "    \n",
       "jQuery.extend( jQuery.fn.dataTableExt.oSort, {\n",
       "    \"optionalnum-asc\": astropy_sort_num,\n",
       "    \"optionalnum-desc\": function (a,b) { return -astropy_sort_num(a, b); }\n",
       "});\n",
       "\n",
       "    $('#table46913336732920-146012').dataTable({\n",
       "        order: [],\n",
       "        pageLength: 50,\n",
       "        lengthMenu: [[10, 25, 50, 100, 500, 1000, -1], [10, 25, 50, 100, 500, 1000, 'All']],\n",
       "        pagingType: \"full_numbers\",\n",
       "        columnDefs: [{targets: [0, 2, 3, 4], type: \"optionalnum\"}]\n",
       "    });\n",
       "});\n",
       "</script>\n"
      ],
      "text/plain": [
       "<IPython.core.display.HTML object>"
      ]
     },
     "execution_count": 7,
     "metadata": {},
     "output_type": "execute_result"
    }
   ],
   "source": [
    "trendsv7.remove_rows([62,63,64]) # remove the last 3 lines.\n",
    "trendsv7.show_in_notebook()"
   ]
  },
  {
   "cell_type": "markdown",
   "metadata": {},
   "source": [
    "Let's save the new table. "
   ]
  },
  {
   "cell_type": "code",
   "execution_count": 8,
   "metadata": {},
   "outputs": [],
   "source": [
    "trendsv7.write('emlinetrends_v13.fits')"
   ]
  },
  {
   "cell_type": "markdown",
   "metadata": {},
   "source": [
    "This table will be used by SIMQSO."
   ]
  },
  {
   "cell_type": "markdown",
   "metadata": {},
   "source": [
    "Move the emlinetrends_v13.fits file to the path: /where your simqso is/simqso/data/"
   ]
  },
  {
   "cell_type": "markdown",
   "metadata": {},
   "source": [
    "In the line 1267 change emlinetrends_v6.fits by emlinetrends_v13.fits, in the sqgrids.py file. "
   ]
  },
  {
   "cell_type": "code",
   "execution_count": null,
   "metadata": {},
   "outputs": [],
   "source": []
  }
 ],
 "metadata": {
  "kernelspec": {
   "display_name": "DESI master",
   "language": "python",
   "name": "desi-master"
  },
  "language_info": {
   "codemirror_mode": {
    "name": "ipython",
    "version": 3
   },
   "file_extension": ".py",
   "mimetype": "text/x-python",
   "name": "python",
   "nbconvert_exporter": "python",
   "pygments_lexer": "ipython3",
   "version": "3.6.6"
  }
 },
 "nbformat": 4,
 "nbformat_minor": 2
}
