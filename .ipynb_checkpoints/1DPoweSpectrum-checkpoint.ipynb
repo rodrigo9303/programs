{
 "cells": [
  {
   "cell_type": "markdown",
   "metadata": {},
   "source": [
    "# The purpose of this notebook is to compute the 1D Power Spectrum from the Ly-$\\alpha$ forest. "
   ]
  },
  {
   "cell_type": "code",
   "execution_count": 2,
   "metadata": {},
   "outputs": [
    {
     "name": "stdout",
     "output_type": "stream",
     "text": [
      "Populating the interactive namespace from numpy and matplotlib\n"
     ]
    }
   ],
   "source": [
    "import numpy as np\n",
    "import scipy as sp\n",
    "import matplotlib.pyplot as plt\n",
    "import fitsio \n",
    "import sys\n",
    "from glob import glob\n",
    "sys.path.append('/home/rodrigo/Documentos/env_pru/empca/')\n",
    "%matplotlib inline\n",
    "%pylab inline "
   ]
  },
  {
   "cell_type": "code",
   "execution_count": 3,
   "metadata": {},
   "outputs": [],
   "source": [
    "def resample_flux(xout, x, flux, ivar=None, extrapolate=False):\n",
    "    if ivar is None:\n",
    "        return _unweighted_resample(xout, x, flux, extrapolate=extrapolate)\n",
    "    else:\n",
    "        if extrapolate :\n",
    "            raise ValueError(\"Cannot extrapolate ivar. Either set ivar=None and extrapolate=True or the opposite\")\n",
    "        a = _unweighted_resample(xout, x, flux*ivar, extrapolate=False)\n",
    "        b = _unweighted_resample(xout, x, ivar, extrapolate=False)\n",
    "        mask = (b>0)\n",
    "        outflux = np.zeros(a.shape)\n",
    "        outflux[mask] = a[mask] / b[mask]\n",
    "        dx = np.gradient(x)\n",
    "        dxout = np.gradient(xout)\n",
    "        outivar = _unweighted_resample(xout, x, ivar/dx)*dxout\n",
    "        \n",
    "        return outflux, outivar\n",
    "\n",
    "def _unweighted_resample(output_x,input_x,input_flux_density, extrapolate=False) :\n",
    "    \n",
    "    # shorter names\n",
    "    ix=input_x\n",
    "    iy=input_flux_density\n",
    "    ox=output_x\n",
    "\n",
    "    # boundary of output bins\n",
    "    bins=np.zeros(ox.size+1)\n",
    "    bins[1:-1]=(ox[:-1]+ox[1:])/2.\n",
    "    bins[0]=1.5*ox[0]-0.5*ox[1]     # = ox[0]-(ox[1]-ox[0])/2\n",
    "    bins[-1]=1.5*ox[-1]-0.5*ox[-2]  # = ox[-1]+(ox[-1]-ox[-2])/2\n",
    "    \n",
    "    tx=bins.copy()\n",
    "    if not extrapolate :\n",
    "        # note we have to keep the array sorted here because we are going to use it for interpolation\n",
    "        ix = np.append( 2*ix[0]-ix[1] , ix)\n",
    "        iy = np.append(0.,iy)\n",
    "        ix = np.append(ix, 2*ix[-1]-ix[-2])\n",
    "        iy = np.append(iy, 0.)\n",
    "\n",
    "    ty=np.interp(tx,ix,iy)\n",
    "    \n",
    "    #  add input nodes which are inside the node array\n",
    "    k=np.where((ix>=tx[0])&(ix<=tx[-1]))[0]\n",
    "    if k.size :\n",
    "        tx=np.append(tx,ix[k])\n",
    "        ty=np.append(ty,iy[k])\n",
    "        \n",
    "    # sort this node array\n",
    "    p = tx.argsort()\n",
    "    tx=tx[p]\n",
    "    ty=ty[p]\n",
    "    \n",
    "    trapeze_integrals=(ty[1:]+ty[:-1])*(tx[1:]-tx[:-1])/2.\n",
    "    \n",
    "    trapeze_centers=(tx[1:]+tx[:-1])/2.\n",
    "    binsize = bins[1:]-bins[:-1]\n",
    "\n",
    "    if np.any(binsize<=0)  :\n",
    "        raise ValueError(\"Zero or negative bin size\")\n",
    "    \n",
    "    return np.histogram(trapeze_centers, bins=bins, weights=trapeze_integrals)[0] / binsize"
   ]
  },
  {
   "cell_type": "code",
   "execution_count": 4,
   "metadata": {},
   "outputs": [
    {
     "data": {
      "text/plain": [
       "[('SDSS_NAME', '<U18'),\n",
       " ('RA', '>f4'),\n",
       " ('DEC', '>f4'),\n",
       " ('THING_ID', '>i4'),\n",
       " ('PLATE', '>i4'),\n",
       " ('MJD', '>i4'),\n",
       " ('FIBERID', '>i4'),\n",
       " ('Z_VI', '>f4'),\n",
       " ('Z_PIPE', '>f4'),\n",
       " ('SNR', '>f4'),\n",
       " ('SNR_LYAF', '>f4'),\n",
       " ('CHISQ_CONT', '>f4'),\n",
       " ('CONT_FLAG', '>i4'),\n",
       " ('CONT_TEMPLATE', '<U8'),\n",
       " ('Z_DLA', '>f4'),\n",
       " ('LOG_NHI', '>f4')]"
      ]
     },
     "execution_count": 4,
     "metadata": {},
     "output_type": "execute_result"
    }
   ],
   "source": [
    "fdir = '/home/rodrigo/Documentos/maestria/ultimo_año/datos_boss_dr9/BOSSLyaDR9_cat.fits'\n",
    "DM = fitsio.FITS(fdir)\n",
    "fm = fitsio.read(fdir,'BOSSLyaDR9_cat')\n",
    "fm.dtype.descr"
   ]
  },
  {
   "cell_type": "code",
   "execution_count": 5,
   "metadata": {},
   "outputs": [],
   "source": [
    "mask = (fm['Z_VI'] > 2.1) & (fm['Z_VI'] < 4.0)\n",
    "plate = fm['PLATE'][mask]\n",
    "mjd = fm['MJD'][mask]\n",
    "fiber = fm['FIBERID'][mask]\n",
    "z_vi = fm['Z_VI'][mask]\n",
    "pixels = []#np.zeros(plate.size)\n",
    "for i in range(plate.size):\n",
    "    pixels.append('BOSSLyaDR9_spectra/{}/speclya-{}-{}-{}.fits'.format(fm['PLATE'][i],fm['PLATE'][i],fm['MJD'][i],str(fm['FIBERID'][i]).zfill(4)))\n",
    "    "
   ]
  },
  {
   "cell_type": "code",
   "execution_count": 6,
   "metadata": {},
   "outputs": [
    {
     "data": {
      "text/plain": [
       "53809"
      ]
     },
     "execution_count": 6,
     "metadata": {},
     "output_type": "execute_result"
    }
   ],
   "source": [
    "z_vi.size"
   ]
  },
  {
   "cell_type": "code",
   "execution_count": 7,
   "metadata": {},
   "outputs": [],
   "source": [
    "pixels = np.array(pixels)"
   ]
  },
  {
   "cell_type": "code",
   "execution_count": 8,
   "metadata": {},
   "outputs": [
    {
     "data": {
      "text/plain": [
       "array(['BOSSLyaDR9_spectra/4216/speclya-4216-55477-0312.fits',\n",
       "       'BOSSLyaDR9_spectra/4296/speclya-4296-55499-0364.fits',\n",
       "       'BOSSLyaDR9_spectra/4277/speclya-4277-55506-0896.fits', ...,\n",
       "       'BOSSLyaDR9_spectra/4212/speclya-4212-55447-0932.fits',\n",
       "       'BOSSLyaDR9_spectra/4213/speclya-4213-55449-0570.fits',\n",
       "       'BOSSLyaDR9_spectra/4282/speclya-4282-55507-0216.fits'],\n",
       "      dtype='<U52')"
      ]
     },
     "execution_count": 8,
     "metadata": {},
     "output_type": "execute_result"
    }
   ],
   "source": [
    "pixels"
   ]
  },
  {
   "cell_type": "markdown",
   "metadata": {},
   "source": [
    "I must match redshifts of the BOSSLyaDR9_cat.dat file with each speclya file. For this, I will try to build the path where the file is located."
   ]
  },
  {
   "cell_type": "code",
   "execution_count": 9,
   "metadata": {},
   "outputs": [],
   "source": [
    "def speclya(dirfile):\n",
    "    fm = fitsio.read(dirfile,'BOSSLyaDR9_cat')\n",
    "    mask = (fm['Z_VI'] > 2.1) & (fm['Z_VI'] < 4.0)\n",
    "    plate = fm['PLATE'][mask]\n",
    "    mjd = fm['MJD'][mask]\n",
    "    fiber = fm['FIBERID'][mask]\n",
    "    #RA = fm['RA']\n",
    "    #DEC = fm['DEC']\n",
    "    z_vi = fm['Z_VI'][mask]\n",
    "    pixels = []\n",
    "    for i in range(plate.size):\n",
    "        pixels.append('BOSSLyaDR9_spectra/{}/speclya-{}-{}-{}.fits'.format(fm['PLATE'][i],fm['PLATE'][i],fm['MJD'][i],str(fm['FIBERID'][i]).zfill(4)))\n",
    "    pixels = np.array(pixels)\n",
    "    return z_vi, pixels"
   ]
  },
  {
   "cell_type": "code",
   "execution_count": 48,
   "metadata": {},
   "outputs": [],
   "source": [
    "def read_pixels(dirfile):\n",
    "    z, pixels = speclya(dirfile)\n",
    "    fluxs = np.zeros((z.size,4630))\n",
    "    ivars = np.zeros([z.size,4630])\n",
    "    wave_rf = np.zeros([z.size,4630])\n",
    "    for i in pixels[:1]:\n",
    "        specfile = '/home/rodrigo/Documentos/maestria/ultimo_año/datos_boss_dr9/{}'.format(i)\n",
    "        sp = fitsio.read(specfile)\n",
    "        wave = 10**(sp['LOGLAM'])\n",
    "        fluxs[i] = sp['FLUX']\n",
    "        ivars[i] = sp['IVAR']\n",
    "        wave_rf[i] = wave/(1 + z[i])\n",
    "    fluxs = np.vstack(fluxs)\n",
    "    ivars = np.vstack(ivars)\n",
    "    wave_rf = np.vstack(wave_rf)\n",
    "    return wave_rf, fluxs, ivars"
   ]
  },
  {
   "cell_type": "code",
   "execution_count": 49,
   "metadata": {},
   "outputs": [
    {
     "ename": "IndexError",
     "evalue": "only integers, slices (`:`), ellipsis (`...`), numpy.newaxis (`None`) and integer or boolean arrays are valid indices",
     "output_type": "error",
     "traceback": [
      "\u001b[0;31m---------------------------------------------------------------------------\u001b[0m",
      "\u001b[0;31mIndexError\u001b[0m                                Traceback (most recent call last)",
      "\u001b[0;32m<ipython-input-49-1baf0e9614f9>\u001b[0m in \u001b[0;36m<module>\u001b[0;34m()\u001b[0m\n\u001b[0;32m----> 1\u001b[0;31m \u001b[0mspec\u001b[0m \u001b[0;34m=\u001b[0m \u001b[0mread_pixels\u001b[0m\u001b[0;34m(\u001b[0m\u001b[0mfdir\u001b[0m\u001b[0;34m)\u001b[0m\u001b[0;34m\u001b[0m\u001b[0m\n\u001b[0m",
      "\u001b[0;32m<ipython-input-48-5de474149375>\u001b[0m in \u001b[0;36mread_pixels\u001b[0;34m(dirfile)\u001b[0m\n\u001b[1;32m      8\u001b[0m         \u001b[0msp\u001b[0m \u001b[0;34m=\u001b[0m \u001b[0mfitsio\u001b[0m\u001b[0;34m.\u001b[0m\u001b[0mread\u001b[0m\u001b[0;34m(\u001b[0m\u001b[0mspecfile\u001b[0m\u001b[0;34m)\u001b[0m\u001b[0;34m\u001b[0m\u001b[0m\n\u001b[1;32m      9\u001b[0m         \u001b[0mwave\u001b[0m \u001b[0;34m=\u001b[0m \u001b[0;36m10\u001b[0m\u001b[0;34m**\u001b[0m\u001b[0;34m(\u001b[0m\u001b[0msp\u001b[0m\u001b[0;34m[\u001b[0m\u001b[0;34m'LOGLAM'\u001b[0m\u001b[0;34m]\u001b[0m\u001b[0;34m)\u001b[0m\u001b[0;34m\u001b[0m\u001b[0m\n\u001b[0;32m---> 10\u001b[0;31m         \u001b[0mfluxs\u001b[0m\u001b[0;34m[\u001b[0m\u001b[0mi\u001b[0m\u001b[0;34m]\u001b[0m \u001b[0;34m=\u001b[0m \u001b[0msp\u001b[0m\u001b[0;34m[\u001b[0m\u001b[0;34m'FLUX'\u001b[0m\u001b[0;34m]\u001b[0m\u001b[0;34m\u001b[0m\u001b[0m\n\u001b[0m\u001b[1;32m     11\u001b[0m         \u001b[0mivars\u001b[0m\u001b[0;34m[\u001b[0m\u001b[0mi\u001b[0m\u001b[0;34m]\u001b[0m \u001b[0;34m=\u001b[0m \u001b[0msp\u001b[0m\u001b[0;34m[\u001b[0m\u001b[0;34m'IVAR'\u001b[0m\u001b[0;34m]\u001b[0m\u001b[0;34m\u001b[0m\u001b[0m\n\u001b[1;32m     12\u001b[0m         \u001b[0mwave_rf\u001b[0m\u001b[0;34m[\u001b[0m\u001b[0mi\u001b[0m\u001b[0;34m]\u001b[0m \u001b[0;34m=\u001b[0m \u001b[0mwave\u001b[0m\u001b[0;34m/\u001b[0m\u001b[0;34m(\u001b[0m\u001b[0;36m1\u001b[0m \u001b[0;34m+\u001b[0m \u001b[0mz\u001b[0m\u001b[0;34m[\u001b[0m\u001b[0mi\u001b[0m\u001b[0;34m]\u001b[0m\u001b[0;34m)\u001b[0m\u001b[0;34m\u001b[0m\u001b[0m\n",
      "\u001b[0;31mIndexError\u001b[0m: only integers, slices (`:`), ellipsis (`...`), numpy.newaxis (`None`) and integer or boolean arrays are valid indices"
     ]
    }
   ],
   "source": [
    "spec = read_pixels(fdir)"
   ]
  },
  {
   "cell_type": "code",
   "execution_count": 19,
   "metadata": {},
   "outputs": [
    {
     "data": {
      "text/plain": [
       "4618"
      ]
     },
     "execution_count": 19,
     "metadata": {},
     "output_type": "execute_result"
    }
   ],
   "source": [
    "spec[0].size"
   ]
  },
  {
   "cell_type": "code",
   "execution_count": 27,
   "metadata": {},
   "outputs": [
    {
     "data": {
      "text/plain": [
       "(4618,)"
      ]
     },
     "execution_count": 27,
     "metadata": {},
     "output_type": "execute_result"
    }
   ],
   "source": [
    "spec2 = np.asarray(spec)\n",
    "spec2[0].shape"
   ]
  },
  {
   "cell_type": "code",
   "execution_count": 17,
   "metadata": {},
   "outputs": [
    {
     "data": {
      "text/plain": [
       "array([array([10.649687 ,  7.769591 , 13.353377 , ...,  2.2280293,  5.013948 ,\n",
       "        5.1487546], dtype=float32),\n",
       "       array([ 3.472002  ,  7.700982  ,  0.10725138, ...,  3.0779703 ,\n",
       "        4.5454984 , -1.2245258 ], dtype=float32),\n",
       "       array([-3.703024 ,  3.1218946,  1.4413437, ..., -2.5238564,  8.197158 ,\n",
       "       -1.6799719], dtype=float32),\n",
       "       array([11.769529 ,  8.239067 ,  4.7086263, ...,  0.6653994,  3.5595586,\n",
       "        2.883961 ], dtype=float32),\n",
       "       array([ 9.848478  ,  3.9781451 , -1.8923675 , ...,  0.25246808,\n",
       "        3.727416  ,  5.360116  ], dtype=float32)], dtype=object)"
      ]
     },
     "execution_count": 17,
     "metadata": {},
     "output_type": "execute_result"
    }
   ],
   "source": [
    "spec = np.array(spec)\n",
    "spec"
   ]
  },
  {
   "cell_type": "code",
   "execution_count": 14,
   "metadata": {},
   "outputs": [
    {
     "ename": "ValueError",
     "evalue": "all the input array dimensions except for the concatenation axis must match exactly",
     "output_type": "error",
     "traceback": [
      "\u001b[0;31m---------------------------------------------------------------------------\u001b[0m",
      "\u001b[0;31mValueError\u001b[0m                                Traceback (most recent call last)",
      "\u001b[0;32m<ipython-input-14-6be74485d702>\u001b[0m in \u001b[0;36m<module>\u001b[0;34m()\u001b[0m\n\u001b[0;32m----> 1\u001b[0;31m \u001b[0mspecc\u001b[0m \u001b[0;34m=\u001b[0m \u001b[0mnp\u001b[0m\u001b[0;34m.\u001b[0m\u001b[0mvstack\u001b[0m\u001b[0;34m(\u001b[0m\u001b[0mspec\u001b[0m\u001b[0;34m)\u001b[0m\u001b[0;34m\u001b[0m\u001b[0m\n\u001b[0m",
      "\u001b[0;32m~/.local/lib/python3.6/site-packages/numpy/core/shape_base.py\u001b[0m in \u001b[0;36mvstack\u001b[0;34m(tup)\u001b[0m\n\u001b[1;32m    281\u001b[0m     \"\"\"\n\u001b[1;32m    282\u001b[0m     \u001b[0m_warn_for_nonsequence\u001b[0m\u001b[0;34m(\u001b[0m\u001b[0mtup\u001b[0m\u001b[0;34m)\u001b[0m\u001b[0;34m\u001b[0m\u001b[0m\n\u001b[0;32m--> 283\u001b[0;31m     \u001b[0;32mreturn\u001b[0m \u001b[0m_nx\u001b[0m\u001b[0;34m.\u001b[0m\u001b[0mconcatenate\u001b[0m\u001b[0;34m(\u001b[0m\u001b[0;34m[\u001b[0m\u001b[0matleast_2d\u001b[0m\u001b[0;34m(\u001b[0m\u001b[0m_m\u001b[0m\u001b[0;34m)\u001b[0m \u001b[0;32mfor\u001b[0m \u001b[0m_m\u001b[0m \u001b[0;32min\u001b[0m \u001b[0mtup\u001b[0m\u001b[0;34m]\u001b[0m\u001b[0;34m,\u001b[0m \u001b[0;36m0\u001b[0m\u001b[0;34m)\u001b[0m\u001b[0;34m\u001b[0m\u001b[0m\n\u001b[0m\u001b[1;32m    284\u001b[0m \u001b[0;34m\u001b[0m\u001b[0m\n\u001b[1;32m    285\u001b[0m \u001b[0;34m\u001b[0m\u001b[0m\n",
      "\u001b[0;31mValueError\u001b[0m: all the input array dimensions except for the concatenation axis must match exactly"
     ]
    }
   ],
   "source": [
    "specc = np.vstack(spec)"
   ]
  },
  {
   "cell_type": "code",
   "execution_count": null,
   "metadata": {},
   "outputs": [],
   "source": []
  }
 ],
 "metadata": {
  "kernelspec": {
   "display_name": "Python 3",
   "language": "python",
   "name": "python3"
  },
  "language_info": {
   "codemirror_mode": {
    "name": "ipython",
    "version": 3
   },
   "file_extension": ".py",
   "mimetype": "text/x-python",
   "name": "python",
   "nbconvert_exporter": "python",
   "pygments_lexer": "ipython3",
   "version": "3.6.6"
  }
 },
 "nbformat": 4,
 "nbformat_minor": 2
}
